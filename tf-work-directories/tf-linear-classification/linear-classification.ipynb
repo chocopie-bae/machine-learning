{
 "cells": [
  {
   "cell_type": "code",
   "execution_count": 1,
   "id": "f13dd25f-44b1-46df-b205-411070dbb9fd",
   "metadata": {},
   "outputs": [
    {
     "name": "stderr",
     "output_type": "stream",
     "text": [
      "2024-01-20 02:51:56.490277: E external/local_xla/xla/stream_executor/cuda/cuda_dnn.cc:9261] Unable to register cuDNN factory: Attempting to register factory for plugin cuDNN when one has already been registered\n",
      "2024-01-20 02:51:56.490320: E external/local_xla/xla/stream_executor/cuda/cuda_fft.cc:607] Unable to register cuFFT factory: Attempting to register factory for plugin cuFFT when one has already been registered\n",
      "2024-01-20 02:51:56.516833: E external/local_xla/xla/stream_executor/cuda/cuda_blas.cc:1515] Unable to register cuBLAS factory: Attempting to register factory for plugin cuBLAS when one has already been registered\n"
     ]
    },
    {
     "name": "stdout",
     "output_type": "stream",
     "text": [
      "NP version: 1.26.2\n",
      "TF version: 2.15.0\n",
      "Hub version: 0.15.0\n",
      "GPU available (YESS!!!!)\n"
     ]
    }
   ],
   "source": [
    "# newer version of tensorflow might not need this\n",
    "import os; os.environ['TF_CPP_MIN_LOG_LEVEL'] = '2' # Disable warnings\n",
    "\n",
    "import datetime\n",
    "import matplotlib.pyplot as plt\n",
    "import numpy as np\n",
    "import pandas as pd\n",
    "from sklearn.model_selection import train_test_split\n",
    "import tensorflow as tf\n",
    "import tensorflow_hub as hub\n",
    "\n",
    "\n",
    "print(\"NP version:\", np.__version__)\n",
    "print(\"TF version:\", tf.__version__)\n",
    "print(\"Hub version:\", hub.__version__)\n",
    "\n",
    "# Check for GPU\n",
    "print(\"GPU\", \"available (YESS!!!!)\" if tf.config.list_physical_devices(\"GPU\") else \"not available :(\")"
   ]
  },
  {
   "cell_type": "code",
   "execution_count": 2,
   "id": "68c22a03-bba7-4d0f-b554-00f3d746d204",
   "metadata": {},
   "outputs": [
    {
     "data": {
      "text/plain": [
       "{'data': array([[1.799e+01, 1.038e+01, 1.228e+02, ..., 2.654e-01, 4.601e-01,\n",
       "         1.189e-01],\n",
       "        [2.057e+01, 1.777e+01, 1.329e+02, ..., 1.860e-01, 2.750e-01,\n",
       "         8.902e-02],\n",
       "        [1.969e+01, 2.125e+01, 1.300e+02, ..., 2.430e-01, 3.613e-01,\n",
       "         8.758e-02],\n",
       "        ...,\n",
       "        [1.660e+01, 2.808e+01, 1.083e+02, ..., 1.418e-01, 2.218e-01,\n",
       "         7.820e-02],\n",
       "        [2.060e+01, 2.933e+01, 1.401e+02, ..., 2.650e-01, 4.087e-01,\n",
       "         1.240e-01],\n",
       "        [7.760e+00, 2.454e+01, 4.792e+01, ..., 0.000e+00, 2.871e-01,\n",
       "         7.039e-02]]),\n",
       " 'target': array([0, 0, 0, 0, 0, 0, 0, 0, 0, 0, 0, 0, 0, 0, 0, 0, 0, 0, 0, 1, 1, 1,\n",
       "        0, 0, 0, 0, 0, 0, 0, 0, 0, 0, 0, 0, 0, 0, 0, 1, 0, 0, 0, 0, 0, 0,\n",
       "        0, 0, 1, 0, 1, 1, 1, 1, 1, 0, 0, 1, 0, 0, 1, 1, 1, 1, 0, 1, 0, 0,\n",
       "        1, 1, 1, 1, 0, 1, 0, 0, 1, 0, 1, 0, 0, 1, 1, 1, 0, 0, 1, 0, 0, 0,\n",
       "        1, 1, 1, 0, 1, 1, 0, 0, 1, 1, 1, 0, 0, 1, 1, 1, 1, 0, 1, 1, 0, 1,\n",
       "        1, 1, 1, 1, 1, 1, 1, 0, 0, 0, 1, 0, 0, 1, 1, 1, 0, 0, 1, 0, 1, 0,\n",
       "        0, 1, 0, 0, 1, 1, 0, 1, 1, 0, 1, 1, 1, 1, 0, 1, 1, 1, 1, 1, 1, 1,\n",
       "        1, 1, 0, 1, 1, 1, 1, 0, 0, 1, 0, 1, 1, 0, 0, 1, 1, 0, 0, 1, 1, 1,\n",
       "        1, 0, 1, 1, 0, 0, 0, 1, 0, 1, 0, 1, 1, 1, 0, 1, 1, 0, 0, 1, 0, 0,\n",
       "        0, 0, 1, 0, 0, 0, 1, 0, 1, 0, 1, 1, 0, 1, 0, 0, 0, 0, 1, 1, 0, 0,\n",
       "        1, 1, 1, 0, 1, 1, 1, 1, 1, 0, 0, 1, 1, 0, 1, 1, 0, 0, 1, 0, 1, 1,\n",
       "        1, 1, 0, 1, 1, 1, 1, 1, 0, 1, 0, 0, 0, 0, 0, 0, 0, 0, 0, 0, 0, 0,\n",
       "        0, 0, 1, 1, 1, 1, 1, 1, 0, 1, 0, 1, 1, 0, 1, 1, 0, 1, 0, 0, 1, 1,\n",
       "        1, 1, 1, 1, 1, 1, 1, 1, 1, 1, 1, 0, 1, 1, 0, 1, 0, 1, 1, 1, 1, 1,\n",
       "        1, 1, 1, 1, 1, 1, 1, 1, 1, 0, 1, 1, 1, 0, 1, 0, 1, 1, 1, 1, 0, 0,\n",
       "        0, 1, 1, 1, 1, 0, 1, 0, 1, 0, 1, 1, 1, 0, 1, 1, 1, 1, 1, 1, 1, 0,\n",
       "        0, 0, 1, 1, 1, 1, 1, 1, 1, 1, 1, 1, 1, 0, 0, 1, 0, 0, 0, 1, 0, 0,\n",
       "        1, 1, 1, 1, 1, 0, 1, 1, 1, 1, 1, 0, 1, 1, 1, 0, 1, 1, 0, 0, 1, 1,\n",
       "        1, 1, 1, 1, 0, 1, 1, 1, 1, 1, 1, 1, 0, 1, 1, 1, 1, 1, 0, 1, 1, 0,\n",
       "        1, 1, 1, 1, 1, 1, 1, 1, 1, 1, 1, 1, 0, 1, 0, 0, 1, 0, 1, 1, 1, 1,\n",
       "        1, 0, 1, 1, 0, 1, 0, 1, 1, 0, 1, 0, 1, 1, 1, 1, 1, 1, 1, 1, 0, 0,\n",
       "        1, 1, 1, 1, 1, 1, 0, 1, 1, 1, 1, 1, 1, 1, 1, 1, 1, 0, 1, 1, 1, 1,\n",
       "        1, 1, 1, 0, 1, 0, 1, 1, 0, 1, 1, 1, 1, 1, 0, 0, 1, 0, 1, 0, 1, 1,\n",
       "        1, 1, 1, 0, 1, 1, 0, 1, 0, 1, 0, 0, 1, 1, 1, 0, 1, 1, 1, 1, 1, 1,\n",
       "        1, 1, 1, 1, 1, 0, 1, 0, 0, 1, 1, 1, 1, 1, 1, 1, 1, 1, 1, 1, 1, 1,\n",
       "        1, 1, 1, 1, 1, 1, 1, 1, 1, 1, 1, 1, 0, 0, 0, 0, 0, 0, 1]),\n",
       " 'frame': None,\n",
       " 'target_names': array(['malignant', 'benign'], dtype='<U9'),\n",
       " 'DESCR': '.. _breast_cancer_dataset:\\n\\nBreast cancer wisconsin (diagnostic) dataset\\n--------------------------------------------\\n\\n**Data Set Characteristics:**\\n\\n:Number of Instances: 569\\n\\n:Number of Attributes: 30 numeric, predictive attributes and the class\\n\\n:Attribute Information:\\n    - radius (mean of distances from center to points on the perimeter)\\n    - texture (standard deviation of gray-scale values)\\n    - perimeter\\n    - area\\n    - smoothness (local variation in radius lengths)\\n    - compactness (perimeter^2 / area - 1.0)\\n    - concavity (severity of concave portions of the contour)\\n    - concave points (number of concave portions of the contour)\\n    - symmetry\\n    - fractal dimension (\"coastline approximation\" - 1)\\n\\n    The mean, standard error, and \"worst\" or largest (mean of the three\\n    worst/largest values) of these features were computed for each image,\\n    resulting in 30 features.  For instance, field 0 is Mean Radius, field\\n    10 is Radius SE, field 20 is Worst Radius.\\n\\n    - class:\\n            - WDBC-Malignant\\n            - WDBC-Benign\\n\\n:Summary Statistics:\\n\\n===================================== ====== ======\\n                                        Min    Max\\n===================================== ====== ======\\nradius (mean):                        6.981  28.11\\ntexture (mean):                       9.71   39.28\\nperimeter (mean):                     43.79  188.5\\narea (mean):                          143.5  2501.0\\nsmoothness (mean):                    0.053  0.163\\ncompactness (mean):                   0.019  0.345\\nconcavity (mean):                     0.0    0.427\\nconcave points (mean):                0.0    0.201\\nsymmetry (mean):                      0.106  0.304\\nfractal dimension (mean):             0.05   0.097\\nradius (standard error):              0.112  2.873\\ntexture (standard error):             0.36   4.885\\nperimeter (standard error):           0.757  21.98\\narea (standard error):                6.802  542.2\\nsmoothness (standard error):          0.002  0.031\\ncompactness (standard error):         0.002  0.135\\nconcavity (standard error):           0.0    0.396\\nconcave points (standard error):      0.0    0.053\\nsymmetry (standard error):            0.008  0.079\\nfractal dimension (standard error):   0.001  0.03\\nradius (worst):                       7.93   36.04\\ntexture (worst):                      12.02  49.54\\nperimeter (worst):                    50.41  251.2\\narea (worst):                         185.2  4254.0\\nsmoothness (worst):                   0.071  0.223\\ncompactness (worst):                  0.027  1.058\\nconcavity (worst):                    0.0    1.252\\nconcave points (worst):               0.0    0.291\\nsymmetry (worst):                     0.156  0.664\\nfractal dimension (worst):            0.055  0.208\\n===================================== ====== ======\\n\\n:Missing Attribute Values: None\\n\\n:Class Distribution: 212 - Malignant, 357 - Benign\\n\\n:Creator:  Dr. William H. Wolberg, W. Nick Street, Olvi L. Mangasarian\\n\\n:Donor: Nick Street\\n\\n:Date: November, 1995\\n\\nThis is a copy of UCI ML Breast Cancer Wisconsin (Diagnostic) datasets.\\nhttps://goo.gl/U2Uwz2\\n\\nFeatures are computed from a digitized image of a fine needle\\naspirate (FNA) of a breast mass.  They describe\\ncharacteristics of the cell nuclei present in the image.\\n\\nSeparating plane described above was obtained using\\nMultisurface Method-Tree (MSM-T) [K. P. Bennett, \"Decision Tree\\nConstruction Via Linear Programming.\" Proceedings of the 4th\\nMidwest Artificial Intelligence and Cognitive Science Society,\\npp. 97-101, 1992], a classification method which uses linear\\nprogramming to construct a decision tree.  Relevant features\\nwere selected using an exhaustive search in the space of 1-4\\nfeatures and 1-3 separating planes.\\n\\nThe actual linear program used to obtain the separating plane\\nin the 3-dimensional space is that described in:\\n[K. P. Bennett and O. L. Mangasarian: \"Robust Linear\\nProgramming Discrimination of Two Linearly Inseparable Sets\",\\nOptimization Methods and Software 1, 1992, 23-34].\\n\\nThis database is also available through the UW CS ftp server:\\n\\nftp ftp.cs.wisc.edu\\ncd math-prog/cpo-dataset/machine-learn/WDBC/\\n\\n|details-start|\\n**References**\\n|details-split|\\n\\n- W.N. Street, W.H. Wolberg and O.L. Mangasarian. Nuclear feature extraction\\n  for breast tumor diagnosis. IS&T/SPIE 1993 International Symposium on\\n  Electronic Imaging: Science and Technology, volume 1905, pages 861-870,\\n  San Jose, CA, 1993.\\n- O.L. Mangasarian, W.N. Street and W.H. Wolberg. Breast cancer diagnosis and\\n  prognosis via linear programming. Operations Research, 43(4), pages 570-577,\\n  July-August 1995.\\n- W.H. Wolberg, W.N. Street, and O.L. Mangasarian. Machine learning techniques\\n  to diagnose breast cancer from fine-needle aspirates. Cancer Letters 77 (1994)\\n  163-171.\\n\\n|details-end|\\n',\n",
       " 'feature_names': array(['mean radius', 'mean texture', 'mean perimeter', 'mean area',\n",
       "        'mean smoothness', 'mean compactness', 'mean concavity',\n",
       "        'mean concave points', 'mean symmetry', 'mean fractal dimension',\n",
       "        'radius error', 'texture error', 'perimeter error', 'area error',\n",
       "        'smoothness error', 'compactness error', 'concavity error',\n",
       "        'concave points error', 'symmetry error',\n",
       "        'fractal dimension error', 'worst radius', 'worst texture',\n",
       "        'worst perimeter', 'worst area', 'worst smoothness',\n",
       "        'worst compactness', 'worst concavity', 'worst concave points',\n",
       "        'worst symmetry', 'worst fractal dimension'], dtype='<U23'),\n",
       " 'filename': 'breast_cancer.csv',\n",
       " 'data_module': 'sklearn.datasets.data'}"
      ]
     },
     "execution_count": 2,
     "metadata": {},
     "output_type": "execute_result"
    }
   ],
   "source": [
    "# Load in the data\n",
    "\n",
    "from sklearn.datasets import load_breast_cancer\n",
    "data = load_breast_cancer()\n",
    "data\n"
   ]
  },
  {
   "cell_type": "code",
   "execution_count": 3,
   "id": "a8548a96-d0d1-420a-a1d3-60a43819ca7e",
   "metadata": {},
   "outputs": [
    {
     "data": {
      "text/plain": [
       "sklearn.utils._bunch.Bunch"
      ]
     },
     "execution_count": 3,
     "metadata": {},
     "output_type": "execute_result"
    }
   ],
   "source": [
    "type(data)"
   ]
  },
  {
   "cell_type": "code",
   "execution_count": 4,
   "id": "18ee078d-eb3c-4db1-9aa0-9ae74af631bb",
   "metadata": {},
   "outputs": [
    {
     "data": {
      "text/plain": [
       "dict_keys(['data', 'target', 'frame', 'target_names', 'DESCR', 'feature_names', 'filename', 'data_module'])"
      ]
     },
     "execution_count": 4,
     "metadata": {},
     "output_type": "execute_result"
    }
   ],
   "source": [
    "data.keys()"
   ]
  },
  {
   "cell_type": "code",
   "execution_count": 6,
   "id": "49ea2418-89d3-4a80-ab5e-95f516c0cd48",
   "metadata": {},
   "outputs": [
    {
     "data": {
      "text/plain": [
       "(569, 30)"
      ]
     },
     "execution_count": 6,
     "metadata": {},
     "output_type": "execute_result"
    }
   ],
   "source": [
    "data.data.shape"
   ]
  },
  {
   "cell_type": "code",
   "execution_count": 7,
   "id": "5dc48eed-bcd2-480c-a4dc-b3d43859f4ff",
   "metadata": {},
   "outputs": [
    {
     "data": {
      "text/plain": [
       "array([0, 0, 0, 0, 0, 0, 0, 0, 0, 0, 0, 0, 0, 0, 0, 0, 0, 0, 0, 1, 1, 1,\n",
       "       0, 0, 0, 0, 0, 0, 0, 0, 0, 0, 0, 0, 0, 0, 0, 1, 0, 0, 0, 0, 0, 0,\n",
       "       0, 0, 1, 0, 1, 1, 1, 1, 1, 0, 0, 1, 0, 0, 1, 1, 1, 1, 0, 1, 0, 0,\n",
       "       1, 1, 1, 1, 0, 1, 0, 0, 1, 0, 1, 0, 0, 1, 1, 1, 0, 0, 1, 0, 0, 0,\n",
       "       1, 1, 1, 0, 1, 1, 0, 0, 1, 1, 1, 0, 0, 1, 1, 1, 1, 0, 1, 1, 0, 1,\n",
       "       1, 1, 1, 1, 1, 1, 1, 0, 0, 0, 1, 0, 0, 1, 1, 1, 0, 0, 1, 0, 1, 0,\n",
       "       0, 1, 0, 0, 1, 1, 0, 1, 1, 0, 1, 1, 1, 1, 0, 1, 1, 1, 1, 1, 1, 1,\n",
       "       1, 1, 0, 1, 1, 1, 1, 0, 0, 1, 0, 1, 1, 0, 0, 1, 1, 0, 0, 1, 1, 1,\n",
       "       1, 0, 1, 1, 0, 0, 0, 1, 0, 1, 0, 1, 1, 1, 0, 1, 1, 0, 0, 1, 0, 0,\n",
       "       0, 0, 1, 0, 0, 0, 1, 0, 1, 0, 1, 1, 0, 1, 0, 0, 0, 0, 1, 1, 0, 0,\n",
       "       1, 1, 1, 0, 1, 1, 1, 1, 1, 0, 0, 1, 1, 0, 1, 1, 0, 0, 1, 0, 1, 1,\n",
       "       1, 1, 0, 1, 1, 1, 1, 1, 0, 1, 0, 0, 0, 0, 0, 0, 0, 0, 0, 0, 0, 0,\n",
       "       0, 0, 1, 1, 1, 1, 1, 1, 0, 1, 0, 1, 1, 0, 1, 1, 0, 1, 0, 0, 1, 1,\n",
       "       1, 1, 1, 1, 1, 1, 1, 1, 1, 1, 1, 0, 1, 1, 0, 1, 0, 1, 1, 1, 1, 1,\n",
       "       1, 1, 1, 1, 1, 1, 1, 1, 1, 0, 1, 1, 1, 0, 1, 0, 1, 1, 1, 1, 0, 0,\n",
       "       0, 1, 1, 1, 1, 0, 1, 0, 1, 0, 1, 1, 1, 0, 1, 1, 1, 1, 1, 1, 1, 0,\n",
       "       0, 0, 1, 1, 1, 1, 1, 1, 1, 1, 1, 1, 1, 0, 0, 1, 0, 0, 0, 1, 0, 0,\n",
       "       1, 1, 1, 1, 1, 0, 1, 1, 1, 1, 1, 0, 1, 1, 1, 0, 1, 1, 0, 0, 1, 1,\n",
       "       1, 1, 1, 1, 0, 1, 1, 1, 1, 1, 1, 1, 0, 1, 1, 1, 1, 1, 0, 1, 1, 0,\n",
       "       1, 1, 1, 1, 1, 1, 1, 1, 1, 1, 1, 1, 0, 1, 0, 0, 1, 0, 1, 1, 1, 1,\n",
       "       1, 0, 1, 1, 0, 1, 0, 1, 1, 0, 1, 0, 1, 1, 1, 1, 1, 1, 1, 1, 0, 0,\n",
       "       1, 1, 1, 1, 1, 1, 0, 1, 1, 1, 1, 1, 1, 1, 1, 1, 1, 0, 1, 1, 1, 1,\n",
       "       1, 1, 1, 0, 1, 0, 1, 1, 0, 1, 1, 1, 1, 1, 0, 0, 1, 0, 1, 0, 1, 1,\n",
       "       1, 1, 1, 0, 1, 1, 0, 1, 0, 1, 0, 0, 1, 1, 1, 0, 1, 1, 1, 1, 1, 1,\n",
       "       1, 1, 1, 1, 1, 0, 1, 0, 0, 1, 1, 1, 1, 1, 1, 1, 1, 1, 1, 1, 1, 1,\n",
       "       1, 1, 1, 1, 1, 1, 1, 1, 1, 1, 1, 1, 0, 0, 0, 0, 0, 0, 1])"
      ]
     },
     "execution_count": 7,
     "metadata": {},
     "output_type": "execute_result"
    }
   ],
   "source": [
    "data.target"
   ]
  },
  {
   "cell_type": "markdown",
   "id": "0752462f-791c-4211-8544-19f64ae5b72f",
   "metadata": {},
   "source": [
    "## This is a binary classification problem"
   ]
  },
  {
   "cell_type": "code",
   "execution_count": 8,
   "id": "ee378aab-794b-45a6-8d60-3f78e544f935",
   "metadata": {},
   "outputs": [
    {
     "data": {
      "text/plain": [
       "array(['malignant', 'benign'], dtype='<U9')"
      ]
     },
     "execution_count": 8,
     "metadata": {},
     "output_type": "execute_result"
    }
   ],
   "source": [
    "data.target_names"
   ]
  },
  {
   "cell_type": "code",
   "execution_count": 10,
   "id": "3b0ba5a2-4936-459f-927e-9e691014ee7e",
   "metadata": {},
   "outputs": [
    {
     "data": {
      "text/plain": [
       "(569,)"
      ]
     },
     "execution_count": 10,
     "metadata": {},
     "output_type": "execute_result"
    }
   ],
   "source": [
    "data.target.shape"
   ]
  },
  {
   "cell_type": "code",
   "execution_count": 12,
   "id": "db3d5727-874f-4a5d-908e-c4b32b638a7b",
   "metadata": {},
   "outputs": [
    {
     "data": {
      "text/plain": [
       "array(['mean radius', 'mean texture', 'mean perimeter', 'mean area',\n",
       "       'mean smoothness', 'mean compactness', 'mean concavity',\n",
       "       'mean concave points', 'mean symmetry', 'mean fractal dimension',\n",
       "       'radius error', 'texture error', 'perimeter error', 'area error',\n",
       "       'smoothness error', 'compactness error', 'concavity error',\n",
       "       'concave points error', 'symmetry error',\n",
       "       'fractal dimension error', 'worst radius', 'worst texture',\n",
       "       'worst perimeter', 'worst area', 'worst smoothness',\n",
       "       'worst compactness', 'worst concavity', 'worst concave points',\n",
       "       'worst symmetry', 'worst fractal dimension'], dtype='<U23')"
      ]
     },
     "execution_count": 12,
     "metadata": {},
     "output_type": "execute_result"
    }
   ],
   "source": [
    "data.feature_names"
   ]
  },
  {
   "cell_type": "code",
   "execution_count": 29,
   "id": "751dfbf6-6a7a-4222-b37f-30dccf105bc2",
   "metadata": {},
   "outputs": [],
   "source": [
    "# spliting data\n",
    "\n",
    "X_train, X_test, y_train, y_test = train_test_split(data.data, data.target, test_size=0.2, random_state=42)\n"
   ]
  },
  {
   "cell_type": "code",
   "execution_count": 30,
   "id": "3ba09265-6500-4070-bdd9-71cee7873186",
   "metadata": {},
   "outputs": [
    {
     "data": {
      "text/plain": [
       "(455, 30)"
      ]
     },
     "execution_count": 30,
     "metadata": {},
     "output_type": "execute_result"
    }
   ],
   "source": [
    "row, column_features = X_train.shape\n",
    "row, column_features"
   ]
  },
  {
   "cell_type": "code",
   "execution_count": 31,
   "id": "85c03c52-d567-4397-ac53-8db0e372d33d",
   "metadata": {},
   "outputs": [],
   "source": [
    "# Scaling the data. Converting values to a common scale\n",
    "# Improves performance for the ML algorithm and coverage faster\n",
    "from sklearn.preprocessing import StandardScaler\n",
    "\n",
    "scaler = StandardScaler()\n",
    "# .fit_transform() use for training dataset\n",
    "X_train = scaler.fit_transform(X_train) \n",
    "# transform use for test dataset. Scaling would automatically apply by learning from .fit_transform()\n",
    "X_test = scaler.transform(X_test) \n"
   ]
  },
  {
   "cell_type": "code",
   "execution_count": 36,
   "id": "35bfc622-6aec-4c6f-8173-dafc17c76be9",
   "metadata": {},
   "outputs": [
    {
     "name": "stdout",
     "output_type": "stream",
     "text": [
      "Epoch 1/100\n",
      "15/15 [==============================] - 1s 11ms/step - loss: 0.8291 - accuracy: 0.4527 - val_loss: 0.8940 - val_accuracy: 0.4649\n",
      "Epoch 2/100\n"
     ]
    },
    {
     "name": "stderr",
     "output_type": "stream",
     "text": [
      "WARNING: All log messages before absl::InitializeLog() is called are written to STDERR\n",
      "I0000 00:00:1705720744.208092    1040 device_compiler.h:186] Compiled cluster using XLA!  This line is logged at most once for the lifetime of the process.\n"
     ]
    },
    {
     "name": "stdout",
     "output_type": "stream",
     "text": [
      "15/15 [==============================] - 0s 7ms/step - loss: 0.7296 - accuracy: 0.5516 - val_loss: 0.7919 - val_accuracy: 0.5263\n",
      "Epoch 3/100\n",
      "15/15 [==============================] - 0s 5ms/step - loss: 0.6475 - accuracy: 0.6330 - val_loss: 0.7057 - val_accuracy: 0.6228\n",
      "Epoch 4/100\n",
      "15/15 [==============================] - 0s 6ms/step - loss: 0.5783 - accuracy: 0.6989 - val_loss: 0.6345 - val_accuracy: 0.6754\n",
      "Epoch 5/100\n",
      "15/15 [==============================] - 0s 6ms/step - loss: 0.5247 - accuracy: 0.7363 - val_loss: 0.5741 - val_accuracy: 0.6842\n",
      "Epoch 6/100\n",
      "15/15 [==============================] - 0s 5ms/step - loss: 0.4796 - accuracy: 0.7670 - val_loss: 0.5240 - val_accuracy: 0.7281\n",
      "Epoch 7/100\n",
      "15/15 [==============================] - 0s 6ms/step - loss: 0.4431 - accuracy: 0.8000 - val_loss: 0.4831 - val_accuracy: 0.7719\n",
      "Epoch 8/100\n",
      "15/15 [==============================] - 0s 5ms/step - loss: 0.4119 - accuracy: 0.8286 - val_loss: 0.4483 - val_accuracy: 0.7982\n",
      "Epoch 9/100\n",
      "15/15 [==============================] - 0s 6ms/step - loss: 0.3863 - accuracy: 0.8484 - val_loss: 0.4180 - val_accuracy: 0.8333\n",
      "Epoch 10/100\n",
      "15/15 [==============================] - 0s 5ms/step - loss: 0.3638 - accuracy: 0.8549 - val_loss: 0.3910 - val_accuracy: 0.8421\n",
      "Epoch 11/100\n",
      "15/15 [==============================] - 0s 4ms/step - loss: 0.3442 - accuracy: 0.8681 - val_loss: 0.3675 - val_accuracy: 0.8596\n",
      "Epoch 12/100\n",
      "15/15 [==============================] - 0s 5ms/step - loss: 0.3273 - accuracy: 0.8703 - val_loss: 0.3476 - val_accuracy: 0.8772\n",
      "Epoch 13/100\n",
      "15/15 [==============================] - 0s 5ms/step - loss: 0.3126 - accuracy: 0.8791 - val_loss: 0.3293 - val_accuracy: 0.8772\n",
      "Epoch 14/100\n",
      "15/15 [==============================] - 0s 5ms/step - loss: 0.2989 - accuracy: 0.8879 - val_loss: 0.3119 - val_accuracy: 0.8860\n",
      "Epoch 15/100\n",
      "15/15 [==============================] - 0s 5ms/step - loss: 0.2866 - accuracy: 0.8923 - val_loss: 0.2961 - val_accuracy: 0.8947\n",
      "Epoch 16/100\n",
      "15/15 [==============================] - 0s 5ms/step - loss: 0.2752 - accuracy: 0.8967 - val_loss: 0.2827 - val_accuracy: 0.8947\n",
      "Epoch 17/100\n",
      "15/15 [==============================] - 0s 5ms/step - loss: 0.2654 - accuracy: 0.9033 - val_loss: 0.2706 - val_accuracy: 0.9035\n",
      "Epoch 18/100\n",
      "15/15 [==============================] - 0s 5ms/step - loss: 0.2566 - accuracy: 0.9099 - val_loss: 0.2595 - val_accuracy: 0.9123\n",
      "Epoch 19/100\n",
      "15/15 [==============================] - 0s 5ms/step - loss: 0.2484 - accuracy: 0.9187 - val_loss: 0.2493 - val_accuracy: 0.9123\n",
      "Epoch 20/100\n",
      "15/15 [==============================] - 0s 4ms/step - loss: 0.2408 - accuracy: 0.9187 - val_loss: 0.2401 - val_accuracy: 0.9211\n",
      "Epoch 21/100\n",
      "15/15 [==============================] - 0s 4ms/step - loss: 0.2338 - accuracy: 0.9187 - val_loss: 0.2318 - val_accuracy: 0.9211\n",
      "Epoch 22/100\n",
      "15/15 [==============================] - 0s 4ms/step - loss: 0.2275 - accuracy: 0.9231 - val_loss: 0.2237 - val_accuracy: 0.9211\n",
      "Epoch 23/100\n",
      "15/15 [==============================] - 0s 4ms/step - loss: 0.2215 - accuracy: 0.9231 - val_loss: 0.2163 - val_accuracy: 0.9474\n",
      "Epoch 24/100\n",
      "15/15 [==============================] - 0s 4ms/step - loss: 0.2160 - accuracy: 0.9253 - val_loss: 0.2095 - val_accuracy: 0.9474\n",
      "Epoch 25/100\n",
      "15/15 [==============================] - 0s 4ms/step - loss: 0.2107 - accuracy: 0.9341 - val_loss: 0.2029 - val_accuracy: 0.9474\n",
      "Epoch 26/100\n",
      "15/15 [==============================] - 0s 4ms/step - loss: 0.2057 - accuracy: 0.9341 - val_loss: 0.1970 - val_accuracy: 0.9561\n",
      "Epoch 27/100\n",
      "15/15 [==============================] - 0s 4ms/step - loss: 0.2009 - accuracy: 0.9341 - val_loss: 0.1915 - val_accuracy: 0.9561\n",
      "Epoch 28/100\n",
      "15/15 [==============================] - 0s 5ms/step - loss: 0.1967 - accuracy: 0.9341 - val_loss: 0.1860 - val_accuracy: 0.9561\n",
      "Epoch 29/100\n",
      "15/15 [==============================] - 0s 4ms/step - loss: 0.1926 - accuracy: 0.9341 - val_loss: 0.1812 - val_accuracy: 0.9561\n",
      "Epoch 30/100\n",
      "15/15 [==============================] - 0s 4ms/step - loss: 0.1887 - accuracy: 0.9363 - val_loss: 0.1768 - val_accuracy: 0.9561\n",
      "Epoch 31/100\n",
      "15/15 [==============================] - 0s 4ms/step - loss: 0.1853 - accuracy: 0.9363 - val_loss: 0.1724 - val_accuracy: 0.9649\n",
      "Epoch 32/100\n",
      "15/15 [==============================] - 0s 4ms/step - loss: 0.1817 - accuracy: 0.9385 - val_loss: 0.1682 - val_accuracy: 0.9649\n",
      "Epoch 33/100\n",
      "15/15 [==============================] - 0s 4ms/step - loss: 0.1785 - accuracy: 0.9407 - val_loss: 0.1643 - val_accuracy: 0.9649\n",
      "Epoch 34/100\n",
      "15/15 [==============================] - 0s 4ms/step - loss: 0.1753 - accuracy: 0.9429 - val_loss: 0.1609 - val_accuracy: 0.9649\n",
      "Epoch 35/100\n",
      "15/15 [==============================] - 0s 5ms/step - loss: 0.1726 - accuracy: 0.9429 - val_loss: 0.1572 - val_accuracy: 0.9649\n",
      "Epoch 36/100\n",
      "15/15 [==============================] - 0s 4ms/step - loss: 0.1697 - accuracy: 0.9451 - val_loss: 0.1541 - val_accuracy: 0.9649\n",
      "Epoch 37/100\n",
      "15/15 [==============================] - 0s 4ms/step - loss: 0.1670 - accuracy: 0.9451 - val_loss: 0.1510 - val_accuracy: 0.9649\n",
      "Epoch 38/100\n",
      "15/15 [==============================] - 0s 4ms/step - loss: 0.1644 - accuracy: 0.9473 - val_loss: 0.1479 - val_accuracy: 0.9649\n",
      "Epoch 39/100\n",
      "15/15 [==============================] - 0s 5ms/step - loss: 0.1618 - accuracy: 0.9495 - val_loss: 0.1450 - val_accuracy: 0.9649\n",
      "Epoch 40/100\n",
      "15/15 [==============================] - 0s 4ms/step - loss: 0.1594 - accuracy: 0.9473 - val_loss: 0.1423 - val_accuracy: 0.9649\n",
      "Epoch 41/100\n",
      "15/15 [==============================] - 0s 4ms/step - loss: 0.1571 - accuracy: 0.9473 - val_loss: 0.1396 - val_accuracy: 0.9649\n",
      "Epoch 42/100\n",
      "15/15 [==============================] - 0s 4ms/step - loss: 0.1549 - accuracy: 0.9473 - val_loss: 0.1371 - val_accuracy: 0.9649\n",
      "Epoch 43/100\n",
      "15/15 [==============================] - 0s 4ms/step - loss: 0.1527 - accuracy: 0.9495 - val_loss: 0.1348 - val_accuracy: 0.9649\n",
      "Epoch 44/100\n",
      "15/15 [==============================] - 0s 4ms/step - loss: 0.1506 - accuracy: 0.9495 - val_loss: 0.1326 - val_accuracy: 0.9649\n",
      "Epoch 45/100\n",
      "15/15 [==============================] - 0s 4ms/step - loss: 0.1487 - accuracy: 0.9495 - val_loss: 0.1304 - val_accuracy: 0.9649\n",
      "Epoch 46/100\n",
      "15/15 [==============================] - 0s 4ms/step - loss: 0.1468 - accuracy: 0.9516 - val_loss: 0.1284 - val_accuracy: 0.9649\n",
      "Epoch 47/100\n",
      "15/15 [==============================] - 0s 4ms/step - loss: 0.1450 - accuracy: 0.9516 - val_loss: 0.1265 - val_accuracy: 0.9649\n",
      "Epoch 48/100\n",
      "15/15 [==============================] - 0s 4ms/step - loss: 0.1432 - accuracy: 0.9516 - val_loss: 0.1246 - val_accuracy: 0.9649\n",
      "Epoch 49/100\n",
      "15/15 [==============================] - 0s 4ms/step - loss: 0.1416 - accuracy: 0.9516 - val_loss: 0.1228 - val_accuracy: 0.9649\n",
      "Epoch 50/100\n",
      "15/15 [==============================] - 0s 4ms/step - loss: 0.1399 - accuracy: 0.9516 - val_loss: 0.1209 - val_accuracy: 0.9737\n",
      "Epoch 51/100\n",
      "15/15 [==============================] - 0s 4ms/step - loss: 0.1383 - accuracy: 0.9538 - val_loss: 0.1194 - val_accuracy: 0.9737\n",
      "Epoch 52/100\n",
      "15/15 [==============================] - 0s 4ms/step - loss: 0.1368 - accuracy: 0.9560 - val_loss: 0.1178 - val_accuracy: 0.9737\n",
      "Epoch 53/100\n",
      "15/15 [==============================] - 0s 4ms/step - loss: 0.1353 - accuracy: 0.9560 - val_loss: 0.1163 - val_accuracy: 0.9737\n",
      "Epoch 54/100\n",
      "15/15 [==============================] - 0s 4ms/step - loss: 0.1339 - accuracy: 0.9560 - val_loss: 0.1149 - val_accuracy: 0.9737\n",
      "Epoch 55/100\n",
      "15/15 [==============================] - 0s 4ms/step - loss: 0.1325 - accuracy: 0.9560 - val_loss: 0.1134 - val_accuracy: 0.9737\n",
      "Epoch 56/100\n",
      "15/15 [==============================] - 0s 4ms/step - loss: 0.1311 - accuracy: 0.9560 - val_loss: 0.1121 - val_accuracy: 0.9737\n",
      "Epoch 57/100\n",
      "15/15 [==============================] - 0s 4ms/step - loss: 0.1298 - accuracy: 0.9560 - val_loss: 0.1107 - val_accuracy: 0.9737\n",
      "Epoch 58/100\n",
      "15/15 [==============================] - 0s 4ms/step - loss: 0.1285 - accuracy: 0.9582 - val_loss: 0.1095 - val_accuracy: 0.9737\n",
      "Epoch 59/100\n",
      "15/15 [==============================] - 0s 4ms/step - loss: 0.1273 - accuracy: 0.9582 - val_loss: 0.1083 - val_accuracy: 0.9737\n",
      "Epoch 60/100\n",
      "15/15 [==============================] - 0s 4ms/step - loss: 0.1262 - accuracy: 0.9582 - val_loss: 0.1071 - val_accuracy: 0.9737\n",
      "Epoch 61/100\n",
      "15/15 [==============================] - 0s 4ms/step - loss: 0.1250 - accuracy: 0.9582 - val_loss: 0.1060 - val_accuracy: 0.9737\n",
      "Epoch 62/100\n",
      "15/15 [==============================] - 0s 4ms/step - loss: 0.1238 - accuracy: 0.9582 - val_loss: 0.1048 - val_accuracy: 0.9737\n",
      "Epoch 63/100\n",
      "15/15 [==============================] - 0s 4ms/step - loss: 0.1227 - accuracy: 0.9582 - val_loss: 0.1036 - val_accuracy: 0.9737\n",
      "Epoch 64/100\n",
      "15/15 [==============================] - 0s 4ms/step - loss: 0.1216 - accuracy: 0.9604 - val_loss: 0.1025 - val_accuracy: 0.9737\n",
      "Epoch 65/100\n",
      "15/15 [==============================] - 0s 4ms/step - loss: 0.1206 - accuracy: 0.9604 - val_loss: 0.1015 - val_accuracy: 0.9737\n",
      "Epoch 66/100\n",
      "15/15 [==============================] - 0s 4ms/step - loss: 0.1196 - accuracy: 0.9604 - val_loss: 0.1004 - val_accuracy: 0.9737\n",
      "Epoch 67/100\n",
      "15/15 [==============================] - 0s 4ms/step - loss: 0.1186 - accuracy: 0.9626 - val_loss: 0.0994 - val_accuracy: 0.9737\n",
      "Epoch 68/100\n",
      "15/15 [==============================] - 0s 4ms/step - loss: 0.1176 - accuracy: 0.9626 - val_loss: 0.0985 - val_accuracy: 0.9737\n",
      "Epoch 69/100\n",
      "15/15 [==============================] - 0s 4ms/step - loss: 0.1166 - accuracy: 0.9626 - val_loss: 0.0977 - val_accuracy: 0.9737\n",
      "Epoch 70/100\n",
      "15/15 [==============================] - 0s 4ms/step - loss: 0.1157 - accuracy: 0.9626 - val_loss: 0.0966 - val_accuracy: 0.9737\n",
      "Epoch 71/100\n",
      "15/15 [==============================] - 0s 4ms/step - loss: 0.1147 - accuracy: 0.9626 - val_loss: 0.0958 - val_accuracy: 0.9737\n",
      "Epoch 72/100\n",
      "15/15 [==============================] - 0s 4ms/step - loss: 0.1139 - accuracy: 0.9626 - val_loss: 0.0950 - val_accuracy: 0.9737\n",
      "Epoch 73/100\n",
      "15/15 [==============================] - 0s 4ms/step - loss: 0.1131 - accuracy: 0.9626 - val_loss: 0.0942 - val_accuracy: 0.9737\n",
      "Epoch 74/100\n",
      "15/15 [==============================] - 0s 5ms/step - loss: 0.1122 - accuracy: 0.9626 - val_loss: 0.0935 - val_accuracy: 0.9737\n",
      "Epoch 75/100\n",
      "15/15 [==============================] - 0s 4ms/step - loss: 0.1114 - accuracy: 0.9626 - val_loss: 0.0927 - val_accuracy: 0.9737\n",
      "Epoch 76/100\n",
      "15/15 [==============================] - 0s 4ms/step - loss: 0.1106 - accuracy: 0.9626 - val_loss: 0.0920 - val_accuracy: 0.9737\n",
      "Epoch 77/100\n",
      "15/15 [==============================] - 0s 5ms/step - loss: 0.1098 - accuracy: 0.9648 - val_loss: 0.0913 - val_accuracy: 0.9737\n",
      "Epoch 78/100\n",
      "15/15 [==============================] - 0s 4ms/step - loss: 0.1090 - accuracy: 0.9648 - val_loss: 0.0906 - val_accuracy: 0.9825\n",
      "Epoch 79/100\n",
      "15/15 [==============================] - 0s 4ms/step - loss: 0.1083 - accuracy: 0.9714 - val_loss: 0.0899 - val_accuracy: 0.9825\n",
      "Epoch 80/100\n",
      "15/15 [==============================] - 0s 4ms/step - loss: 0.1075 - accuracy: 0.9714 - val_loss: 0.0894 - val_accuracy: 0.9825\n",
      "Epoch 81/100\n",
      "15/15 [==============================] - 0s 5ms/step - loss: 0.1068 - accuracy: 0.9714 - val_loss: 0.0890 - val_accuracy: 0.9825\n",
      "Epoch 82/100\n",
      "15/15 [==============================] - 0s 4ms/step - loss: 0.1061 - accuracy: 0.9714 - val_loss: 0.0884 - val_accuracy: 0.9825\n",
      "Epoch 83/100\n",
      "15/15 [==============================] - 0s 4ms/step - loss: 0.1054 - accuracy: 0.9714 - val_loss: 0.0878 - val_accuracy: 0.9825\n",
      "Epoch 84/100\n",
      "15/15 [==============================] - 0s 4ms/step - loss: 0.1047 - accuracy: 0.9714 - val_loss: 0.0872 - val_accuracy: 0.9825\n",
      "Epoch 85/100\n",
      "15/15 [==============================] - 0s 4ms/step - loss: 0.1040 - accuracy: 0.9736 - val_loss: 0.0867 - val_accuracy: 0.9825\n",
      "Epoch 86/100\n",
      "15/15 [==============================] - 0s 5ms/step - loss: 0.1034 - accuracy: 0.9736 - val_loss: 0.0862 - val_accuracy: 0.9825\n",
      "Epoch 87/100\n",
      "15/15 [==============================] - 0s 5ms/step - loss: 0.1027 - accuracy: 0.9736 - val_loss: 0.0856 - val_accuracy: 0.9825\n",
      "Epoch 88/100\n",
      "15/15 [==============================] - 0s 4ms/step - loss: 0.1021 - accuracy: 0.9736 - val_loss: 0.0851 - val_accuracy: 0.9825\n",
      "Epoch 89/100\n",
      "15/15 [==============================] - 0s 4ms/step - loss: 0.1015 - accuracy: 0.9736 - val_loss: 0.0845 - val_accuracy: 0.9825\n",
      "Epoch 90/100\n",
      "15/15 [==============================] - 0s 4ms/step - loss: 0.1009 - accuracy: 0.9736 - val_loss: 0.0838 - val_accuracy: 0.9825\n",
      "Epoch 91/100\n",
      "15/15 [==============================] - 0s 4ms/step - loss: 0.1003 - accuracy: 0.9736 - val_loss: 0.0834 - val_accuracy: 0.9825\n",
      "Epoch 92/100\n",
      "15/15 [==============================] - 0s 4ms/step - loss: 0.0997 - accuracy: 0.9736 - val_loss: 0.0829 - val_accuracy: 0.9825\n",
      "Epoch 93/100\n",
      "15/15 [==============================] - 0s 4ms/step - loss: 0.0992 - accuracy: 0.9736 - val_loss: 0.0825 - val_accuracy: 0.9825\n",
      "Epoch 94/100\n",
      "15/15 [==============================] - 0s 4ms/step - loss: 0.0986 - accuracy: 0.9736 - val_loss: 0.0820 - val_accuracy: 0.9825\n",
      "Epoch 95/100\n",
      "15/15 [==============================] - 0s 4ms/step - loss: 0.0980 - accuracy: 0.9736 - val_loss: 0.0816 - val_accuracy: 0.9825\n",
      "Epoch 96/100\n",
      "15/15 [==============================] - 0s 4ms/step - loss: 0.0975 - accuracy: 0.9736 - val_loss: 0.0811 - val_accuracy: 0.9825\n",
      "Epoch 97/100\n",
      "15/15 [==============================] - 0s 5ms/step - loss: 0.0970 - accuracy: 0.9736 - val_loss: 0.0807 - val_accuracy: 0.9825\n",
      "Epoch 98/100\n",
      "15/15 [==============================] - 0s 4ms/step - loss: 0.0965 - accuracy: 0.9736 - val_loss: 0.0803 - val_accuracy: 0.9825\n",
      "Epoch 99/100\n",
      "15/15 [==============================] - 0s 4ms/step - loss: 0.0960 - accuracy: 0.9736 - val_loss: 0.0799 - val_accuracy: 0.9825\n",
      "Epoch 100/100\n",
      "15/15 [==============================] - 0s 4ms/step - loss: 0.0954 - accuracy: 0.9736 - val_loss: 0.0795 - val_accuracy: 0.9825\n"
     ]
    }
   ],
   "source": [
    "# creating the model\n",
    "model = tf.keras.models.Sequential([\n",
    "    tf.keras.layers.Input(shape=(column_features,)),\n",
    "    tf.keras.layers.Dense(1, activation='sigmoid')\n",
    "])\n",
    "\n",
    "model.compile(optimizer='adam', loss='binary_crossentropy', metrics=['accuracy'])\n",
    "train_model = model.fit(X_train, y_train, validation_data=(X_test, y_test), epochs=100)"
   ]
  },
  {
   "cell_type": "code",
   "execution_count": 38,
   "id": "d41894fe-7ba9-4d5a-99d9-7fc047894c0d",
   "metadata": {},
   "outputs": [
    {
     "name": "stdout",
     "output_type": "stream",
     "text": [
      "15/15 [==============================] - 0s 3ms/step - loss: 0.0951 - accuracy: 0.9736\n",
      "Train score: [0.09509225934743881, 0.9736263751983643]\n",
      "4/4 [==============================] - 0s 3ms/step - loss: 0.0795 - accuracy: 0.9825\n",
      "Test score: [0.07954376935958862, 0.9824561476707458]\n"
     ]
    }
   ],
   "source": [
    "\n",
    "print(\"Train score:\", model.evaluate(X_train, y_train))\n",
    "print(\"Test score:\", model.evaluate(X_test, y_test))"
   ]
  },
  {
   "cell_type": "code",
   "execution_count": 41,
   "id": "f41b3e92-e874-4fc0-af87-7c72542815f1",
   "metadata": {},
   "outputs": [
    {
     "data": {
      "text/plain": [
       "<matplotlib.legend.Legend at 0x7fdaf418b190>"
      ]
     },
     "execution_count": 41,
     "metadata": {},
     "output_type": "execute_result"
    },
    {
     "data": {
      "image/png": "[encoded data removed]",
      "text/plain": [
       "<Figure size 640x480 with 1 Axes>"
      ]
     },
     "metadata": {},
     "output_type": "display_data"
    }
   ],
   "source": [
    "plt.plot(train_model.history['loss'], label='loss') # measure how well the model is peforming on training dataset\n",
    "plt.plot(train_model.history['val_loss'], label='val_loss') # validation loss perform on data if never seen\n",
    "plt.legend()"
   ]
  },
  {
   "cell_type": "markdown",
   "id": "9081bf1b-1590-47f8-aa14-ddc08de7d1c1",
   "metadata": {},
   "source": [
    "# Why are both loss vs val_loss important?\n",
    "\n",
    "`loss`\n",
    "- loss refers to the value of the loss function for the training data. It's a measure of how well the model is performing on the training dataset.\r\n",
    "- Usage: It's used by the optimization algorithm (like gradient descent) to adjust the model's parameters (weights and biases) with the goal of minimizing this loss.\n",
    "\n",
    "\n",
    "- **Detecting Overfitting**: If **`loss`** decreases (which is good) but **`val_loss`** starts to increase, it's a sign that the model is starting to memorize the training data (overfitting) rather than learning to generalize from it.\n",
    "\n",
    "- **Model Tuning**: By monitoring both **`loss`** and **`val_loss`**, you can make decisions about when to stop training, which model parameters are optimal, and if any adjustments need to be made to prevent overfitting (like adding dropout, regularization, or getting more data).\n",
    "\n",
    "In summary, **`loss`** measures how well the model is learning from the training data, while **`val_loss`** measures how well the model's learning generalizes to new, unseen data. Keeping an eye on both helps in developing a model that not only learns well but also performs well in practical, real-world use."
   ]
  },
  {
   "cell_type": "code",
   "execution_count": 43,
   "id": "a4631ba9-4e8f-4336-b65a-efe34b0f5aec",
   "metadata": {},
   "outputs": [
    {
     "data": {
      "text/plain": [
       "<matplotlib.legend.Legend at 0x7fdb851a5ed0>"
      ]
     },
     "execution_count": 43,
     "metadata": {},
     "output_type": "execute_result"
    },
    {
     "data": {
      "image/png": "[encoded data removed]",
      "text/plain": [
       "<Figure size 640x480 with 1 Axes>"
      ]
     },
     "metadata": {},
     "output_type": "display_data"
    }
   ],
   "source": [
    "plt.plot(train_model.history['accuracy'], label='acc')\n",
    "plt.plot(train_model.history['val_accuracy'], label='val_acc')\n",
    "plt.legend()"
   ]
  },
  {
   "cell_type": "markdown",
   "id": "e2eddf01-7ea4-4a11-ab65-1053755fe309",
   "metadata": {},
   "source": [
    "# Why are both accuracy vs val_accuracy important?\n",
    "\n",
    "`accuracy`\n",
    "- accuracy refers to the proportion of correct predictions that the model makes when evaluated on the training dataset.\n",
    "\n",
    "- Usage: It's used to understand how well the model is learning and performing on the data it was trained on.\n",
    "\n",
    "- **Monitoring Overfitting**: If **`accuracy`** is high but **`val_accuracy`** is significantly lower, it might be a sign that the model is overfitting to the training data, meaning it's learning the training data too well but not generalizing to new data.\n",
    "\n",
    "- **Tuning the Model**: By observing both **`accuracy`** and **`val_accuracy`**, you can make informed decisions about when to stop training, adjust learning rates, add dropout or regularization, or even collect more data to improve the model's performance.\n",
    "\n",
    "In summary, while **`accuracy`** gives you a measure of how well the model is learning the training data, **`val_accuracy`** tells you how well the model's learning is generalizing to new, unseen data. Balancing these two metrics is key to developing a robust, well-performing model."
   ]
  },
  {
   "cell_type": "code",
   "execution_count": 52,
   "id": "876c3d07-4798-44d2-bbd7-b4c01e059dbd",
   "metadata": {},
   "outputs": [
    {
     "name": "stdout",
     "output_type": "stream",
     "text": [
      "4/4 [==============================] - 0s 2ms/step\n",
      "[[8.2486123e-01]\n",
      " [2.1454450e-03]\n",
      " [5.2556187e-02]\n",
      " [9.8392498e-01]\n",
      " [9.9442720e-01]\n",
      " [3.7286230e-07]\n",
      " [1.0228425e-05]\n",
      " [8.7350495e-02]\n",
      " [4.4792259e-01]\n",
      " [9.8758554e-01]]\n"
     ]
    }
   ],
   "source": [
    "# Make prediction\n",
    "predict = model.predict(X_test)\n",
    "print(predict[:10])"
   ]
  },
  {
   "cell_type": "code",
   "execution_count": 55,
   "id": "d3070fd6-251d-4ee8-9171-efe3ae18b063",
   "metadata": {},
   "outputs": [
    {
     "name": "stdout",
     "output_type": "stream",
     "text": [
      "[1. 0. 0. 1. 1. 0. 0. 0. 0. 1. 1. 0. 1. 0. 1. 0. 1. 1. 1. 0. 1. 1. 0. 1.\n",
      " 1. 1. 1. 1. 1. 0. 1. 1. 1. 1. 1. 1. 0. 1. 0. 1. 1. 0. 1. 1. 1. 1. 1. 1.\n",
      " 1. 1. 0. 0. 1. 1. 1. 1. 1. 0. 0. 1. 1. 0. 0. 1. 1. 1. 0. 0. 1. 1. 0. 0.\n",
      " 1. 0. 1. 1. 1. 0. 1. 1. 0. 1. 0. 0. 0. 0. 0. 0. 1. 1. 1. 1. 1. 1. 1. 1.\n",
      " 0. 0. 1. 0. 0. 1. 0. 0. 1. 1. 1. 0. 1. 1. 0. 1. 1. 0.]\n",
      "(114,)\n"
     ]
    }
   ],
   "source": [
    "# Round to ge the actual predictions\n",
    "predict = np.round(predict).flatten()\n",
    "print(predict)\n",
    "print(predict.shape)"
   ]
  },
  {
   "cell_type": "code",
   "execution_count": 54,
   "id": "83486c91-2aef-45af-b9ab-b71a20ec1026",
   "metadata": {},
   "outputs": [
    {
     "name": "stdout",
     "output_type": "stream",
     "text": [
      "Manually calculated accuracy: 0.9824561403508771\n",
      "4/4 [==============================] - 0s 2ms/step - loss: 0.0795 - accuracy: 0.9825\n",
      "Evaluate output: [0.07954376935958862, 0.9824561476707458]\n"
     ]
    }
   ],
   "source": [
    "# Calculate the accuracy, compare it to evaluate() output\n",
    "print(\"Manually calculated accuracy:\", np.mean(predict == y_test))\n",
    "print(\"Evaluate output:\", model.evaluate(X_test, y_test))"
   ]
  },
  {
   "cell_type": "markdown",
   "id": "e4112d8c-f8bb-43e4-9cf5-d9cb67f48fa4",
   "metadata": {},
   "source": [
    "# Saving the model"
   ]
  },
  {
   "cell_type": "code",
   "execution_count": 57,
   "id": "590cd4b5-6856-44f3-b3a4-eff95657b13b",
   "metadata": {},
   "outputs": [],
   "source": [
    "model.save('linearclassifier.keras')"
   ]
  },
  {
   "cell_type": "code",
   "execution_count": 58,
   "id": "6c31e476-628f-4229-8e90-d319c68c1932",
   "metadata": {},
   "outputs": [
    {
     "name": "stdout",
     "output_type": "stream",
     "text": [
      "total 116K\n",
      "-rw-r--r-- 1 root root 95K Jan 20 06:00 linear-classification.ipynb\n",
      "-rw-r--r-- 1 root root 17K Jan 20 06:14 linearclassifier.keras\n"
     ]
    }
   ],
   "source": [
    "!ls -lh"
   ]
  },
  {
   "cell_type": "code",
   "execution_count": 59,
   "id": "bb4c8788-925b-4eb8-a29c-2a908d59f279",
   "metadata": {},
   "outputs": [
    {
     "name": "stdout",
     "output_type": "stream",
     "text": [
      "[<keras.src.layers.core.dense.Dense object at 0x7fdba1a62b90>]\n",
      "4/4 [==============================] - 0s 4ms/step - loss: 0.0795 - accuracy: 0.9825\n"
     ]
    },
    {
     "data": {
      "text/plain": [
       "[0.07954376935958862, 0.9824561476707458]"
      ]
     },
     "execution_count": 59,
     "metadata": {},
     "output_type": "execute_result"
    }
   ],
   "source": [
    "load_model = tf.keras.models.load_model('linearclassifier.keras')\n",
    "print(load_model.layers)\n",
    "model.evaluate(X_test, y_test)"
   ]
  },
  {
   "cell_type": "code",
   "execution_count": null,
   "id": "2c08162f-2221-4da9-b855-a8dfffc76d9e",
   "metadata": {},
   "outputs": [],
   "source": []
  }
 ],
 "metadata": {
  "kernelspec": {
   "display_name": "Python 3 (ipykernel)",
   "language": "python",
   "name": "python3"
  },
  "language_info": {
   "codemirror_mode": {
    "name": "ipython",
    "version": 3
   },
   "file_extension": ".py",
   "mimetype": "text/x-python",
   "name": "python",
   "nbconvert_exporter": "python",
   "pygments_lexer": "ipython3",
   "version": "3.11.0rc1"
  }
 },
 "nbformat": 4,
 "nbformat_minor": 5
}
